{
 "cells": [
  {
   "cell_type": "code",
   "execution_count": 81,
   "id": "46c8133a",
   "metadata": {},
   "outputs": [],
   "source": [
    "#import packages\n",
    "import pandas as pd\n",
    "import numpy as np\n",
    "import matplotlib.pyplot as plt\n"
   ]
  },
  {
   "cell_type": "code",
   "execution_count": 82,
   "id": "0ba11e19",
   "metadata": {},
   "outputs": [
    {
     "data": {
      "text/html": [
       "<div>\n",
       "<style scoped>\n",
       "    .dataframe tbody tr th:only-of-type {\n",
       "        vertical-align: middle;\n",
       "    }\n",
       "\n",
       "    .dataframe tbody tr th {\n",
       "        vertical-align: top;\n",
       "    }\n",
       "\n",
       "    .dataframe thead th {\n",
       "        text-align: right;\n",
       "    }\n",
       "</style>\n",
       "<table border=\"1\" class=\"dataframe\">\n",
       "  <thead>\n",
       "    <tr style=\"text-align: right;\">\n",
       "      <th></th>\n",
       "      <th>CompanyName</th>\n",
       "      <th>company contact</th>\n",
       "      <th>company email</th>\n",
       "      <th>company phone</th>\n",
       "      <th>Address</th>\n",
       "      <th>City</th>\n",
       "      <th>State</th>\n",
       "      <th>Postcode</th>\n",
       "      <th>Industry</th>\n",
       "      <th>Industry descr</th>\n",
       "      <th>...</th>\n",
       "      <th>Savings</th>\n",
       "      <th>Borough</th>\n",
       "      <th>Latitude</th>\n",
       "      <th>Longitude</th>\n",
       "      <th>Community Board</th>\n",
       "      <th>Council District</th>\n",
       "      <th>Census Tract</th>\n",
       "      <th>BIN</th>\n",
       "      <th>BBL</th>\n",
       "      <th>NTA</th>\n",
       "    </tr>\n",
       "  </thead>\n",
       "  <tbody>\n",
       "    <tr>\n",
       "      <th>0</th>\n",
       "      <td>1 State Street</td>\n",
       "      <td>David Neiburg</td>\n",
       "      <td>eskoblo@energyspec.com</td>\n",
       "      <td>7186779077</td>\n",
       "      <td>1114 Avenue J</td>\n",
       "      <td>Brooklyn</td>\n",
       "      <td>NY</td>\n",
       "      <td>11230</td>\n",
       "      <td>Commercial</td>\n",
       "      <td>35 story building</td>\n",
       "      <td>...</td>\n",
       "      <td>349.78</td>\n",
       "      <td>Brooklyn</td>\n",
       "      <td>40.624784</td>\n",
       "      <td>-73.964920</td>\n",
       "      <td>314.0</td>\n",
       "      <td>44.0</td>\n",
       "      <td>534.0</td>\n",
       "      <td>3179818.0</td>\n",
       "      <td>3.067130e+09</td>\n",
       "      <td>Midwood</td>\n",
       "    </tr>\n",
       "    <tr>\n",
       "      <th>1</th>\n",
       "      <td>100 Church LLC</td>\n",
       "      <td>Edward A. Carroll</td>\n",
       "      <td>NaN</td>\n",
       "      <td>2125663000</td>\n",
       "      <td>100 Church Street</td>\n",
       "      <td>NY</td>\n",
       "      <td>NY</td>\n",
       "      <td>10007</td>\n",
       "      <td>Commercial</td>\n",
       "      <td>21 Floors</td>\n",
       "      <td>...</td>\n",
       "      <td>4423698.05</td>\n",
       "      <td>New York</td>\n",
       "      <td>40.712968</td>\n",
       "      <td>-74.009490</td>\n",
       "      <td>101.0</td>\n",
       "      <td>1.0</td>\n",
       "      <td>21.0</td>\n",
       "      <td>1001409.0</td>\n",
       "      <td>1.001250e+09</td>\n",
       "      <td>SoHo-TriBeCa-Civic Center-Little Italy</td>\n",
       "    </tr>\n",
       "    <tr>\n",
       "      <th>2</th>\n",
       "      <td>100 Wall Investments</td>\n",
       "      <td>Jerry Branam</td>\n",
       "      <td>NaN</td>\n",
       "      <td>2122487160</td>\n",
       "      <td>96 Wall Street</td>\n",
       "      <td>New York</td>\n",
       "      <td>NY</td>\n",
       "      <td>10005</td>\n",
       "      <td>Landlord</td>\n",
       "      <td>NaN</td>\n",
       "      <td>...</td>\n",
       "      <td>1814542.62</td>\n",
       "      <td>New York</td>\n",
       "      <td>40.705052</td>\n",
       "      <td>-74.007199</td>\n",
       "      <td>101.0</td>\n",
       "      <td>1.0</td>\n",
       "      <td>7.0</td>\n",
       "      <td>1000875.0</td>\n",
       "      <td>1.000380e+09</td>\n",
       "      <td>Battery Park City-Lower Manhattan</td>\n",
       "    </tr>\n",
       "    <tr>\n",
       "      <th>3</th>\n",
       "      <td>1-10 Bush Terminal Owner LP</td>\n",
       "      <td>Andrew Kimball</td>\n",
       "      <td>akimball@industrycity.com</td>\n",
       "      <td>3474178429</td>\n",
       "      <td>220 36th St, Suite 2A</td>\n",
       "      <td>Brooklyn</td>\n",
       "      <td>NY</td>\n",
       "      <td>11232</td>\n",
       "      <td>Landlord</td>\n",
       "      <td>Special Eligible Premises for eligible businesses</td>\n",
       "      <td>...</td>\n",
       "      <td>6755.31</td>\n",
       "      <td>Brooklyn</td>\n",
       "      <td>40.656061</td>\n",
       "      <td>-74.007334</td>\n",
       "      <td>307.0</td>\n",
       "      <td>38.0</td>\n",
       "      <td>2.0</td>\n",
       "      <td>3398687.0</td>\n",
       "      <td>3.006950e+09</td>\n",
       "      <td>Sunset Park West</td>\n",
       "    </tr>\n",
       "    <tr>\n",
       "      <th>4</th>\n",
       "      <td>120 Broadway Acquisitions JV, LLC (Ldmk)</td>\n",
       "      <td>Carl Letich</td>\n",
       "      <td>clettich@silvprop.com</td>\n",
       "      <td>2124064020</td>\n",
       "      <td>120 Broadway</td>\n",
       "      <td>New York</td>\n",
       "      <td>NY</td>\n",
       "      <td>10271</td>\n",
       "      <td>Commercial</td>\n",
       "      <td>NaN</td>\n",
       "      <td>...</td>\n",
       "      <td>3293055.08</td>\n",
       "      <td>New York</td>\n",
       "      <td>40.708546</td>\n",
       "      <td>-74.011041</td>\n",
       "      <td>101.0</td>\n",
       "      <td>1.0</td>\n",
       "      <td>7.0</td>\n",
       "      <td>1001026.0</td>\n",
       "      <td>1.000478e+09</td>\n",
       "      <td>Battery Park City-Lower Manhattan</td>\n",
       "    </tr>\n",
       "  </tbody>\n",
       "</table>\n",
       "<p>5 rows × 26 columns</p>\n",
       "</div>"
      ],
      "text/plain": [
       "                                CompanyName    company contact  \\\n",
       "0                            1 State Street      David Neiburg   \n",
       "1                            100 Church LLC  Edward A. Carroll   \n",
       "2                      100 Wall Investments       Jerry Branam   \n",
       "3               1-10 Bush Terminal Owner LP     Andrew Kimball   \n",
       "4  120 Broadway Acquisitions JV, LLC (Ldmk)        Carl Letich   \n",
       "\n",
       "               company email company phone                Address      City  \\\n",
       "0     eskoblo@energyspec.com    7186779077          1114 Avenue J  Brooklyn   \n",
       "1                        NaN    2125663000      100 Church Street        NY   \n",
       "2                        NaN    2122487160         96 Wall Street  New York   \n",
       "3  akimball@industrycity.com    3474178429  220 36th St, Suite 2A  Brooklyn   \n",
       "4      clettich@silvprop.com    2124064020           120 Broadway  New York   \n",
       "\n",
       "  State  Postcode    Industry  \\\n",
       "0    NY     11230  Commercial   \n",
       "1    NY     10007  Commercial   \n",
       "2    NY     10005    Landlord   \n",
       "3    NY     11232    Landlord   \n",
       "4    NY     10271  Commercial   \n",
       "\n",
       "                                      Industry descr  ...     Savings  \\\n",
       "0                                  35 story building  ...      349.78   \n",
       "1                                          21 Floors  ...  4423698.05   \n",
       "2                                                NaN  ...  1814542.62   \n",
       "3  Special Eligible Premises for eligible businesses  ...     6755.31   \n",
       "4                                                NaN  ...  3293055.08   \n",
       "\n",
       "    Borough   Latitude  Longitude Community Board  Council District  \\\n",
       "0  Brooklyn  40.624784 -73.964920           314.0              44.0   \n",
       "1  New York  40.712968 -74.009490           101.0               1.0   \n",
       "2  New York  40.705052 -74.007199           101.0               1.0   \n",
       "3  Brooklyn  40.656061 -74.007334           307.0              38.0   \n",
       "4  New York  40.708546 -74.011041           101.0               1.0   \n",
       "\n",
       "   Census Tract        BIN           BBL  \\\n",
       "0         534.0  3179818.0  3.067130e+09   \n",
       "1          21.0  1001409.0  1.001250e+09   \n",
       "2           7.0  1000875.0  1.000380e+09   \n",
       "3           2.0  3398687.0  3.006950e+09   \n",
       "4           7.0  1001026.0  1.000478e+09   \n",
       "\n",
       "                                      NTA  \n",
       "0                                 Midwood  \n",
       "1  SoHo-TriBeCa-Civic Center-Little Italy  \n",
       "2       Battery Park City-Lower Manhattan  \n",
       "3                        Sunset Park West  \n",
       "4       Battery Park City-Lower Manhattan  \n",
       "\n",
       "[5 rows x 26 columns]"
      ]
     },
     "execution_count": 82,
     "metadata": {},
     "output_type": "execute_result"
    }
   ],
   "source": [
    "dat = pd.read_csv(r\"Value_of_Energy_Cost_Savings_Program_Savings_for_Businesses_-_FY2020.csv\")\n",
    "#make better column names\n",
    "dat.rename(columns={'Company Name':'CompanyName'}, inplace=True)\n",
    "dat.rename(columns={'Job created':'JobCreated'}, inplace=True)\n",
    "dat.rename(columns={'Savings from beginning receiving benefits':'Savings'}, inplace=True)\n",
    "\n",
    "dat.head()"
   ]
  },
  {
   "cell_type": "code",
   "execution_count": 65,
   "id": "92827c0a",
   "metadata": {},
   "outputs": [],
   "source": []
  },
  {
   "cell_type": "code",
   "execution_count": 83,
   "id": "72607132",
   "metadata": {},
   "outputs": [
    {
     "name": "stdout",
     "output_type": "stream",
     "text": [
      "439 different companies in the data set\n"
     ]
    }
   ],
   "source": [
    "# How many different companies are represented in the data set?\n",
    "dat.drop_duplicates(subset='CompanyName',keep='first',inplace=True)\n",
    "print(str(dat.shape[0]) + ' different companies in the data set')"
   ]
  },
  {
   "cell_type": "code",
   "execution_count": 85,
   "id": "2f2c2a65",
   "metadata": {},
   "outputs": [
    {
     "name": "stdout",
     "output_type": "stream",
     "text": [
      "90.0 total jobs created in Queens\n"
     ]
    }
   ],
   "source": [
    "# What is the total number of jobs created for businesses in Queens?\n",
    "print(str(dat[dat.City=='Queens'].JobCreated.sum()) + ' total jobs created in Queens')"
   ]
  },
  {
   "cell_type": "code",
   "execution_count": 86,
   "id": "1242a262",
   "metadata": {},
   "outputs": [
    {
     "name": "stdout",
     "output_type": "stream",
     "text": [
      "439 different email domains in the data set\n"
     ]
    }
   ],
   "source": [
    "# How many different unique email domains names are there in the data set?\n",
    "print(str(dat['company contact'].count()) + ' different email domains in the data set')"
   ]
  },
  {
   "cell_type": "code",
   "execution_count": 118,
   "id": "e2028a8b",
   "metadata": {},
   "outputs": [
    {
     "name": "stdout",
     "output_type": "stream",
     "text": [
      "                                                       Savings JobCreated\n",
      "                                                          mean        sum\n",
      "NTA                                                                      \n",
      "Battery Park City-Lower Manhattan                 3.798151e+06        0.0\n",
      "Bushwick South                                    3.078000e+05       10.0\n",
      "Carroll Gardens-Columbia Street-Red Hook          1.846839e+05        0.0\n",
      "College Point                                     5.742508e+05        2.0\n",
      "Crown Heights North                               1.716897e+04        0.0\n",
      "DUMBO-Vinegar Hill-Downtown Brooklyn-Boerum Hill  4.373905e+05        0.0\n",
      "East New York                                     4.579454e+05       15.0\n",
      "East Williamsburg                                 1.433695e+05        0.0\n",
      "Greenpoint                                        1.772221e+05        0.0\n",
      "Hunters Point-Sunnyside-West Maspeth              1.606093e+05        0.0\n",
      "Hunts Point                                       3.976354e+05       12.0\n",
      "Manhattanville                                    2.203059e+04        0.0\n",
      "Maspeth                                           2.078318e+04       10.0\n",
      "Mott Haven-Port Morris                            1.599056e+05       10.0\n",
      "Queensbridge-Ravenswood-Long Island City          4.471987e+05        0.0\n",
      "SoHo-TriBeCa-Civic Center-Little Italy            9.908676e+05        0.0\n",
      "Springfield Gardens South-Brookville              3.620289e+05        0.0\n",
      "Steinway                                          2.557695e+05       20.0\n",
      "Sunset Park West                                  1.392565e+05        0.0\n",
      "park-cemetery-etc-Brooklyn                        3.674033e+04        0.0\n"
     ]
    }
   ],
   "source": [
    "# Considering only NTAs with at least 5 listed businesses, what is the average total savings and the total jobs created for each NTA?\n",
    "NTAbig = dat.NTA.value_counts().rename('Counts')\n",
    "t = dat4.groupby('NTA').agg({'CompanyName' : ['count'],'Savings' : ['mean'], 'JobCreated' : ['sum']})\n",
    "tt= dat4.groupby('NTA').count()\n",
    "out_dat = t[tt.CompanyName >= 5]\n",
    "del out_dat['CompanyName']\n",
    "print(out_dat)\n"
   ]
  },
  {
   "cell_type": "code",
   "execution_count": 119,
   "id": "2ec07b83",
   "metadata": {},
   "outputs": [],
   "source": [
    "# Save your result for the previous question as a CSV file.\n",
    "out_dat.to_csv('Day4_Output.csv')"
   ]
  },
  {
   "cell_type": "code",
   "execution_count": 130,
   "id": "eb77f796",
   "metadata": {},
   "outputs": [
    {
     "data": {
      "image/png": "[encoded data removed]",
      "text/plain": [
       "<Figure size 864x360 with 2 Axes>"
      ]
     },
     "metadata": {
      "needs_background": "light"
     },
     "output_type": "display_data"
    }
   ],
   "source": [
    "# Scatter plot of jobs created versus average savings. \n",
    "# Use both a standard and a logarithmic scale for the average savings.\n",
    "\n",
    "plt.figure(figsize=[12,5])\n",
    "\n",
    "ax1 = plt.subplot(121)\n",
    "plt.scatter(dat.Savings,dat.JobCreated,c='k')\n",
    "plt.title('Average savings and jobs created')\n",
    "plt.ylabel('Jobs created')\n",
    "plt.xlabel('Average savings');\n",
    "\n",
    "\n",
    "ax2 = plt.subplot(122)\n",
    "plt.scatter(dat.Savings,dat.JobCreated,c='k')\n",
    "plt.title('Average savings and jobs created')\n",
    "plt.ylabel('Jobs created')\n",
    "plt.xlabel('Log scale: Average savings');\n",
    "\n",
    "ax2.set_xscale('log');"
   ]
  },
  {
   "cell_type": "code",
   "execution_count": 129,
   "id": "22963254",
   "metadata": {},
   "outputs": [
    {
     "data": {
      "image/png": "[encoded data removed]",
      "text/plain": [
       "<Figure size 432x288 with 1 Axes>"
      ]
     },
     "metadata": {
      "needs_background": "light"
     },
     "output_type": "display_data"
    }
   ],
   "source": [
    "# Histogram of the log of the average total savings.\n",
    "\n",
    "plt.hist(dat['Savings'], log=True)\n",
    "plt.title('Log of the average savings')\n",
    "plt.xlabel('Log(Savings)')\n",
    "plt.ylabel('Count');"
   ]
  },
  {
   "cell_type": "code",
   "execution_count": 146,
   "id": "ed596fe7",
   "metadata": {},
   "outputs": [
    {
     "data": {
      "image/png": "[encoded data removed]",
      "text/plain": [
       "<Figure size 432x288 with 1 Axes>"
      ]
     },
     "metadata": {
      "needs_background": "light"
     },
     "output_type": "display_data"
    }
   ],
   "source": [
    "# Line plot of the total jobs created for each month.\n",
    "dtt = pd.to_datetime(dat['Effective Date'])\n",
    "dat['Months'] = dtt.dt.month\n",
    "p = dat.groupby('Months').agg({'JobCreated' : 'sum'}).plot(legend=True)\n",
    "\n",
    "plt.ylabel('Number of jobs')\n",
    "plt.title('Jobs created in each month');"
   ]
  },
  {
   "cell_type": "code",
   "execution_count": null,
   "id": "034225f2",
   "metadata": {},
   "outputs": [],
   "source": []
  }
 ],
 "metadata": {
  "kernelspec": {
   "display_name": "Python 3 (ipykernel)",
   "language": "python",
   "name": "python3"
  },
  "language_info": {
   "codemirror_mode": {
    "name": "ipython",
    "version": 3
   },
   "file_extension": ".py",
   "mimetype": "text/x-python",
   "name": "python",
   "nbconvert_exporter": "python",
   "pygments_lexer": "ipython3",
   "version": "3.9.7"
  }
 },
 "nbformat": 4,
 "nbformat_minor": 5
}
